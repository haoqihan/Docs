{
 "cells": [
  {
   "cell_type": "markdown",
   "metadata": {},
   "source": [
    "### python的 数组和列表"
   ]
  },
  {
   "cell_type": "markdown",
   "metadata": {},
   "source": [
    "### 线性结构\n",
    "- 内存连续\n",
    "- 下标访问"
   ]
  },
  {
   "cell_type": "code",
   "execution_count": 15,
   "metadata": {},
   "outputs": [],
   "source": [
    "class Array:\n",
    "    def __init__(self,size=32):\n",
    "        self._size = size\n",
    "        self._items = [None]*size\n",
    "    \n",
    "    def __getitem__(self,index):\n",
    "        return self._items[index]\n",
    "    \n",
    "    def __setitem__(self,index,value):\n",
    "        self._items[index] = value\n",
    "    \n",
    "    def __len__(self):\n",
    "        return self._size\n",
    "    \n",
    "    def __iter__(self):\n",
    "        for item in self._items:\n",
    "            yield item"
   ]
  },
  {
   "cell_type": "code",
   "execution_count": 20,
   "metadata": {},
   "outputs": [],
   "source": [
    "def test_array():\n",
    "    size = 10\n",
    "    a = Array(size)\n",
    "    a[0] = 1\n",
    "    assert a[0] == 1"
   ]
  },
  {
   "cell_type": "code",
   "execution_count": 21,
   "metadata": {},
   "outputs": [],
   "source": [
    "test_array()"
   ]
  },
  {
   "cell_type": "markdown",
   "metadata": {},
   "source": [
    "### 单链表\n",
    "- 不连续\n",
    "- append\n",
    "- find"
   ]
  },
  {
   "cell_type": "code",
   "execution_count": 37,
   "metadata": {
    "code_folding": [
     1,
     5
    ]
   },
   "outputs": [],
   "source": [
    "# 单链表\n",
    "class Node:\n",
    "    def __init__(self,value=None,next=None):\n",
    "        self.value,self.next = value,next\n",
    "        \n",
    "class LinkedList:\n",
    "    def __init__(self,maxsize = None):\n",
    "        self.maxsize = maxsize\n",
    "        self.root = Node()\n",
    "        self.lengh = 0\n",
    "        self.tailNode = None\n",
    "        \n",
    "    def __len__(self):\n",
    "        return self.lengh\n",
    "    \n",
    "    def append(self,value):\n",
    "        if self.maxsize is not None and len(self) > self.maxsize:\n",
    "            raise Exception(\"Full\")\n",
    "        node = Node(value)\n",
    "        tailNode = self.tailNode\n",
    "        if tailNode is None:\n",
    "            self.root.next = node\n",
    "        else:\n",
    "            tailNode.next = node\n",
    "        self.tailNode = node\n",
    "        self.lengh += 1\n",
    "        \n",
    "    def appendleft(self,value):\n",
    "        headernode = self.root.next\n",
    "        node = Node(value)\n",
    "        self.root.next = node\n",
    "        node.next = headernode\n",
    "        self.lengh += 1\n",
    "    def iter_node(self):\n",
    "        currnode = self.root.next\n",
    "        while currnode is not self.tailNode:\n",
    "            yield currnode\n",
    "            currnode = currnode.next\n",
    "        yield currnode\n",
    "    def __iter__(self):\n",
    "        for node in self.iter_node():\n",
    "            yield node.value\n",
    "    \n",
    "    def remove(self,value):\n",
    "        pernode = self.root\n",
    "        curnode = self.root.next\n",
    "        for curnode in self.iter_node():\n",
    "            if curnode.value == value:\n",
    "                pernode.next = curnode.next\n",
    "                if curnode is self.tailNode:\n",
    "                    self.tailNode = pernode\n",
    "                del curnode\n",
    "                self.lengh -= 1\n",
    "            else:\n",
    "                property = curnode\n",
    "    def find(self,value): # o(n)\n",
    "        index = 0\n",
    "        for node in self.iter_node():\n",
    "            if node.value == value:\n",
    "                return index\n",
    "            index += 1\n",
    "        return -1\n",
    "    def popleft(self): # o（1）\n",
    "        if self.root.next is None:\n",
    "            raise Exception(\"pop from empty linkedList\")\n",
    "        headernode = self.root.next\n",
    "        self.root.next = headernode.next\n",
    "        self.lengh -= 1\n",
    "        value = headernode.value\n",
    "        del headernode\n",
    "        return value\n",
    "    \n",
    "    def clear(self):\n",
    "        for node in self.iter_node():\n",
    "            del node\n",
    "        self.root.next = None\n",
    "        self.lengh = 0   "
   ]
  },
  {
   "cell_type": "code",
   "execution_count": 39,
   "metadata": {},
   "outputs": [],
   "source": [
    "# 测试单链表\n",
    "def test_linked_list():\n",
    "    ll = LinkedList()\n",
    "    ll.append(0)\n",
    "    ll.append(1)\n",
    "    ll.append(2)\n",
    "    assert len(ll) == 3\n",
    "    assert ll.find(2) == 2\n",
    "    assert ll.find(3) == -1\n",
    "    ll.remove(0)\n",
    "    assert len(ll) == 2\n",
    "    assert ll.find(0) == -1\n",
    "    assert list(ll) == [1,2]\n",
    "    ll.appendleft(0)\n",
    "    assert list(ll) == [0,1,2]\n",
    "    assert len(ll) == 3\n",
    "    \n",
    "    headervalue = ll.popleft()\n",
    "    assert headervalue == 0\n",
    "    assert len(ll) == 2\n",
    "    assert list(ll) == [1,2]\n",
    "    \n",
    "    ll.clear()\n",
    "    assert len(ll) == 0\n",
    "test_linked_list()"
   ]
  },
  {
   "cell_type": "markdown",
   "metadata": {},
   "source": [
    "### 双链表\n"
   ]
  },
  {
   "cell_type": "code",
   "execution_count": 40,
   "metadata": {},
   "outputs": [],
   "source": [
    "class Node:\n",
    "    def __init__(self,value=None,prev = None,next=None):\n",
    "        self.value = value\n",
    "        self.prev = prev\n",
    "        self.next = next\n",
    "\n",
    "        \n",
    "class CircualDoublelinked:\n",
    "    def __init__(self):\n",
    "        pass\n",
    "    \n",
    "    \n",
    "    \n",
    "    \n",
    "        "
   ]
  },
  {
   "cell_type": "code",
   "execution_count": null,
   "metadata": {},
   "outputs": [],
   "source": []
  }
 ],
 "metadata": {
  "kernelspec": {
   "display_name": "Python 3",
   "language": "python",
   "name": "python3"
  },
  "language_info": {
   "codemirror_mode": {
    "name": "ipython",
    "version": 3
   },
   "file_extension": ".py",
   "mimetype": "text/x-python",
   "name": "python",
   "nbconvert_exporter": "python",
   "pygments_lexer": "ipython3",
   "version": "3.7.4"
  },
  "toc": {
   "base_numbering": 1,
   "nav_menu": {},
   "number_sections": true,
   "sideBar": true,
   "skip_h1_title": false,
   "title_cell": "Table of Contents",
   "title_sidebar": "Contents",
   "toc_cell": false,
   "toc_position": {},
   "toc_section_display": true,
   "toc_window_display": false
  }
 },
 "nbformat": 4,
 "nbformat_minor": 2
}
