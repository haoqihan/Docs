{
 "cells": [
  {
   "cell_type": "markdown",
   "metadata": {},
   "source": [
    "### python实现链表"
   ]
  },
  {
   "cell_type": "code",
   "execution_count": 1,
   "metadata": {},
   "outputs": [],
   "source": [
    "# 单项链表\n",
    "class ListNode:\n",
    "    def __init__(self,val):\n",
    "        self.val = val\n",
    "        self.next = None\n",
    "    # 翻转链表\n",
    "    def reverse(self,head):\n",
    "        prev = None\n",
    "        while head:\n",
    "            temp = head.next\n",
    "            head.next = prev\n",
    "            prev = head\n",
    "            head = temp\n",
    "        return prev"
   ]
  },
  {
   "cell_type": "code",
   "execution_count": 2,
   "metadata": {},
   "outputs": [],
   "source": [
    "# 双向链表\n",
    "class DlistNode:\n",
    "    def __init__(self,val):\n",
    "        self.val = val\n",
    "        self.prev = self.next = None\n",
    "    def reverse(self,head):\n",
    "        curt = None\n",
    "        while head:\n",
    "            curt = head\n",
    "            head = curt.next\n",
    "            curt.next = curt.prev\n",
    "            curt.prev = head\n",
    "        return curt"
   ]
  },
  {
   "cell_type": "markdown",
   "metadata": {},
   "source": [
    "### 快慢指针"
   ]
  },
  {
   "cell_type": "code",
   "execution_count": 3,
   "metadata": {},
   "outputs": [],
   "source": [
    "class NodeCircle:\n",
    "    \n",
    "    def __init__(self,val):\n",
    "        self.val = val\n",
    "        self.next = None\n",
    "    \n",
    "    def has_circle(self,head):\n",
    "        slow = head\n",
    "        fast = head\n",
    "        while (slow and fast):\n",
    "            fast = fast.next\n",
    "            slow = slow.next\n",
    "            if fast:\n",
    "                fast = fast.next\n",
    "            if fast == slow:\n",
    "                break\n",
    "        if fast and slow and (fast == slow):\n",
    "            return True\n",
    "        else:\n",
    "            return False\n",
    "        "
   ]
  },
  {
   "cell_type": "markdown",
   "metadata": {},
   "source": [
    "### 二叉树"
   ]
  },
  {
   "cell_type": "code",
   "execution_count": 4,
   "metadata": {},
   "outputs": [],
   "source": [
    "class TreeNode:\n",
    "    def __init__(self,val):\n",
    "        self.val = val\n",
    "        self.left,self.right = None,None\n",
    "# 树的遍历\n",
    "class Traversal:\n",
    "    def __init__(self):\n",
    "        self.travers_path = list()\n",
    "    # 前序遍历：先根在左，再右\n",
    "    def preorder(self,root):\n",
    "        if root:\n",
    "            self.travers_path.append(root.val)\n",
    "            self.preorder(root.left)\n",
    "            self.preorder(root.right)\n",
    "    # in-order 中序遍历 先左 再根 再右边\n",
    "    def inorder(self,root):\n",
    "        if root:\n",
    "            self.inorder(root.left)\n",
    "            self.travers_path.append(root.val)\n",
    "            self.inorder(root.right)\n",
    "    \n",
    "    # 后序(post-order)：先左后右再根\n",
    "    def postorder(self,root):\n",
    "        if root:\n",
    "            self.postorder(root.left)\n",
    "            self.postorder(root.right)\n",
    "            self.travers_path.append(root.val)\n",
    "    "
   ]
  },
  {
   "cell_type": "code",
   "execution_count": null,
   "metadata": {},
   "outputs": [],
   "source": []
  }
 ],
 "metadata": {
  "kernelspec": {
   "display_name": "Python 3",
   "language": "python",
   "name": "python3"
  },
  "language_info": {
   "codemirror_mode": {
    "name": "ipython",
    "version": 3
   },
   "file_extension": ".py",
   "mimetype": "text/x-python",
   "name": "python",
   "nbconvert_exporter": "python",
   "pygments_lexer": "ipython3",
   "version": "3.7.4"
  }
 },
 "nbformat": 4,
 "nbformat_minor": 2
}
