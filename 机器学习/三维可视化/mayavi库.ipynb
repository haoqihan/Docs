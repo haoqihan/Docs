{
 "cells": [
  {
   "cell_type": "code",
   "execution_count": 1,
   "metadata": {},
   "outputs": [],
   "source": [
    "from mayavi import mlab"
   ]
  },
  {
   "cell_type": "markdown",
   "metadata": {},
   "source": [
    "### Mayavi.mlab\n",
    "\n",
    "|类别|说明|\n",
    "|-|-|\n",
    "|绘图函数|barchar、contour3d、contour_surf、flow、imshow、mesh、plot3d、points3d、quiver3d、surf、triangular_mesh|\n",
    "|图形控制函数|clf、close、draw、figure、gcf、savefig、screenshot、sync_camera|\n",
    "|图形修饰函数|colorbar、scalarbar、xlabel、ylabel、zlabel|\n",
    "|相机控制函数|move、pitch、roll、view、yaw|\n",
    "|其他函数|animate、axes、get_engine、show、set_engine|\n",
    "|Mlab管线控制|Open、set_vtk_src、adddataset、scalar_cut_plane|"
   ]
  },
  {
   "cell_type": "markdown",
   "metadata": {},
   "source": [
    "### Mayavi.api\n",
    "\n",
    "|类别|说明|\n",
    "|-|-|\n",
    "|管线基础对象|Scene、Source、Filter、ModuleManager、Module、PiplineBase、Engine|\n",
    "|主视窗和UI对象|DecoratedScene、MayaviScene、SceneEditor、MlabSceneModel、EngineView、EngineRichView|"
   ]
  },
  {
   "cell_type": "code",
   "execution_count": 3,
   "metadata": {},
   "outputs": [],
   "source": [
    "x = [[-1,1,1,-1,-1],[-1,1,1,-1,-1]]\n",
    "y = [[-1,-1,-1,-1,-1],[1,1,1,1,1]]\n",
    "z = [[1,1,-1,-1,1],[1,1,-1,-1,1]]\n",
    "from mayavi import mlab\n",
    "\n",
    "s = mlab.mesh(x,y,z)\n",
    "mlab.show()"
   ]
  },
  {
   "cell_type": "code",
   "execution_count": 2,
   "metadata": {},
   "outputs": [],
   "source": [
    "from numpy import pi,sin,cos,mgrid\n",
    "from mayavi import mlab\n",
    "\n",
    "# 建立数据\n",
    "dphi,dtheta = pi/250.0,pi/250.0\n",
    "[phi,theta] = mgrid[0:pi+dphi*1.5:dphi,0:2*pi+dtheta*1.5:dtheta]\n",
    "m0 = 4;m1 = 3;m2 = 2;m3 = 3;m4 = 6;m5 = 2; m6 = 6;m7 = 4\n",
    "r = sin(m0*phi)**m1 + cos(m2*phi)**m3 + sin(m4*theta)**m5 + cos(m6*theta)**m7\n",
    "x = r * sin(phi)*cos(theta)\n",
    "y = r * cos(phi)\n",
    "z = r * sin(phi)*sin(theta)\n",
    "\n",
    "# 对数据进行可视化\n",
    "s = mlab.mesh(x,y,z,representation=\"wireframe\",line_width=1.0)\n",
    "mlab.show()"
   ]
  },
  {
   "cell_type": "markdown",
   "metadata": {},
   "source": [
    "### mayavi 管线层级\n",
    "* Engine ：建立和销毁Scenes\n",
    "* Scenes:多个数据集合Sources\n",
    "* Filters:对数据进行变换\n",
    "* Module Manager：控制颜色 Colors and Legends\n",
    "* Modules：最终数据的表示，如线条，平面等"
   ]
  },
  {
   "cell_type": "markdown",
   "metadata": {},
   "source": [
    "### 程序配置属性步骤\n",
    "\n",
    "1.获得场景对象，mlab.gcf()  \n",
    "2.通过children属性，在管线中找到需要修改的对象  \n",
    "3.配置窗口多个选项卡，属性需要一级一级获得"
   ]
  },
  {
   "cell_type": "markdown",
   "metadata": {},
   "source": [
    "### mlab对numpy建立可视化过程  \n",
    "1.建立数据源  \n",
    "2.使用Filter（可选）  \n",
    "3.添加可视化模块  \n"
   ]
  },
  {
   "cell_type": "markdown",
   "metadata": {},
   "source": [
    "### 3d绘图函数 0D和1D数据\n",
    "|函数|说明|\n",
    "|-|-|\n",
    "|Points3d（）|基于Numpy数组的x，y，z提供的三维坐标点，绘制点图形|\n",
    "|Plot3d（）|基于1维Numpy数组x，y，z提供的三维数据坐标，绘制图形|\n"
   ]
  },
  {
   "cell_type": "markdown",
   "metadata": {},
   "source": [
    "### Points3d（）\n",
    "|参数|说明|\n",
    "|-|-|\n",
    "|color|VTK对象的颜色，定义为（0,1）的三元组|\n",
    "|colormap|colormap的类型，例如：Reds，Blues,Copper等|\n",
    "|extent|x,y,z 数组范围（xmin,xmax,ymin,ymax,zmin,zmax）|\n",
    "|figure|画图|\n",
    "|line_width|线的宽度，该值为float，默认为0.2|\n",
    "|mask_points|减少或降低大规模点数据集的数量|\n",
    "|mode|符号的模式，例如2darrow，2dcircle，arrow，cone等|\n",
    "|name|VTK对对象的名字|\n",
    "|opcity|vtk对象的整体透明度，该值为float类型，默认为1.0|\n",
    "|reset_zoom|对新加入场景数据的放缩进行重置，默认为True|\n",
    "|resolution|符号的分辨率，如球体的细分数，该值整数，默认为8|\n",
    "|scale_factor|符号放缩的比例|\n",
    "|scale_mode|符号放缩的模式：如vector、scalar、none|\n",
    "|transparent|根据标量值来确定actor的透明度|\n",
    "|vmax|对colormap放缩的最大值|\n",
    "|vmin|对colormap放缩的最小值|\n",
    "\n"
   ]
  },
  {
   "cell_type": "code",
   "execution_count": 4,
   "metadata": {},
   "outputs": [],
   "source": [
    "# points3d的实例\n",
    "from mayavi import mlab\n",
    "import numpy as np\n",
    "\n",
    "# 建立数据\n",
    "t = np.linspace(0,4*np.pi,20)\n",
    "x = np.sin(2 * t)\n",
    "y = np.cos(t)\n",
    "z = np.cos(2 * t)\n",
    "s = 2 + np.sin(t)\n",
    "\n",
    "# 对数据进行可视化\n",
    "points = mlab.points3d(x,y,z,s,colormap=\"Reds\",scale_factor=.25)\n",
    "mlab.show()"
   ]
  },
  {
   "cell_type": "markdown",
   "metadata": {},
   "source": [
    "### plot3d()\n",
    "|参数|说明|\n",
    "|-|-|\n",
    "|tube_radius|线管的半径，用于描述线的粗细|\n",
    "|tube_sides|表示线的分段数，该值为整数，默认为6|"
   ]
  },
  {
   "cell_type": "markdown",
   "metadata": {},
   "source": [
    "### 2D数据\n",
    "|函数|说明|\n",
    "|-|-|\n",
    "|imshow（）|将二维数组可视化为一张图形|\n",
    "|surf（）|将二维数组转换为一个平面，Z轴描述了数组点的高度|\n",
    "|contour_surf()|将二维数组可视化为等高线，高度值由数组点的值确定|\n",
    "|mesh（）|绘制由三个二维数组x，y，z描述组标点的网格平面|\n",
    "|barchart（）|根据二维、三维或者云数据绘制的三维柱状图|\n",
    "|triangular_mesh()|绘制由x,y,z坐标点描述的三角网格面|"
   ]
  },
  {
   "cell_type": "code",
   "execution_count": 6,
   "metadata": {},
   "outputs": [],
   "source": [
    "# imshow（）\n",
    "import numpy as mp\n",
    "from mayavi import mlab\n",
    "\n",
    "# 建立数据\n",
    "s = np.random.random((10,10))\n",
    "# 对数据进行可视化\n",
    "img = mlab.imshow(s,colormap=\"gist_earth\")\n",
    "mlab.show()"
   ]
  },
  {
   "cell_type": "code",
   "execution_count": 7,
   "metadata": {},
   "outputs": [],
   "source": [
    "#surf()\n",
    "import numpy as np\n",
    "from mayavi import mlab\n",
    "def f(x,y):\n",
    "    return np.sin(x - y)+np.cos(x + y)\n",
    "x,y = np.mgrid[-7.:7.05:0.1,-5.:5.05:0.05]\n",
    "s = mlab.surf(x,y,f)\n",
    "mlab.show()"
   ]
  },
  {
   "cell_type": "code",
   "execution_count": 8,
   "metadata": {},
   "outputs": [],
   "source": [
    "#contour_surf()\n",
    "import numpy as np\n",
    "from mayavi import mlab\n",
    "def f(x,y):\n",
    "    return np.sin(x - y)+np.cos(x + y)\n",
    "x,y = np.mgrid[-7.:7.05:0.1,-5.:5.05:0.05]\n",
    "s = mlab.contour_surf(x,y,f)\n",
    "mlab.show()"
   ]
  },
  {
   "cell_type": "markdown",
   "metadata": {},
   "source": [
    "### 3D数据\n",
    "|函数|说明|\n",
    "|-|-|\n",
    "|contour3d| 三维数组定义的体数据等值面可视化|\n",
    "|quiver3d|三维矢量数据的可视化，箭头表示在该点的矢量数据|\n",
    "|flow|绘制3维数组描述的向量场的粒子轨迹|\n"
   ]
  },
  {
   "cell_type": "code",
   "execution_count": 9,
   "metadata": {},
   "outputs": [],
   "source": [
    "# contour3d\n",
    "import numpy as np\n",
    "from mayavi import mlab\n",
    "\n",
    "x,y,z = np.ogrid[-5:5:64j,-5:5:64j,-5:5:64j]\n",
    "scalars = x*x+y*y+z*z\n",
    "obj = mlab.contour3d(scalars,contours=8,transparent=True)\n",
    "mlab.show()"
   ]
  },
  {
   "cell_type": "code",
   "execution_count": 1,
   "metadata": {},
   "outputs": [],
   "source": [
    "# quiver3d()\n",
    "import numpy as np\n",
    "from mayavi import mlab\n",
    "\n",
    "x,y,z = np.mgrid[-2:3,-2:3,-2:3]\n",
    "r = np.sqrt(x ** 2 + y **2 + z ** 4)\n",
    "u = y * np.sin(r) / (r + 0.0001)\n",
    "v = -x * np.sin(r) / (r + 0.001)\n",
    "w = np.zeros_like(z)\n",
    "\n",
    "obj = mlab.quiver3d(x,y,z,u,v,w,line_width=3,scale_factor=1)\n",
    "mlab.show()\n"
   ]
  },
  {
   "cell_type": "markdown",
   "metadata": {},
   "source": [
    "### 常见的colormaps\n",
    "![UTOOLS1563064666611.png](https://i.loli.net/2019/07/14/5d2a794bd409e26949.png)"
   ]
  },
  {
   "cell_type": "code",
   "execution_count": 1,
   "metadata": {},
   "outputs": [],
   "source": [
    "# 改变颜色\n",
    "import numpy as np\n",
    "from mayavi import mlab\n",
    "\n",
    "# 建立数据\n",
    "x,y = np.mgrid[-10:10:200j,-10:10:100j]\n",
    "z = 100 * np.sin(x*y)/(x*y)\n",
    "\n",
    "# 对数据进行可视化\n",
    "mlab.figure(bgcolor=(1,1,1))\n",
    "surf = mlab.surf(z,colormap=\"cool\")\n",
    "# 访问surf对象的LUT\n",
    "# LUT是一个255*4的数组，列项表示RGBA，每个值得范围从0-255\n",
    "lut = surf.module_manager.scalar_lut_manager.lut.table.to_array()\n",
    "# 增加透明度，修改alpha通道\n",
    "lut[:,-1] = np.linspace(0,255,256)\n",
    "surf.module_manager.scalar_lut_manager.lut.table = lut\n",
    "# 更新视图病显示出来\n",
    "mlab.show()"
   ]
  },
  {
   "cell_type": "markdown",
   "metadata": {},
   "source": [
    "### 图像控制函数\n",
    "![UTOOLS1563065341879.png](https://i.loli.net/2019/07/14/5d2a7bef04b9657362.png)"
   ]
  },
  {
   "cell_type": "markdown",
   "metadata": {},
   "source": [
    "![UTOOLS1563065463412.png](https://i.loli.net/2019/07/14/5d2a7c683da8b67683.png)"
   ]
  },
  {
   "attachments": {},
   "cell_type": "markdown",
   "metadata": {},
   "source": [
    "![UTOOLS1563065536799.png](https://i.loli.net/2019/07/14/5d2a7cb1895cb12490.png)"
   ]
  },
  {
   "cell_type": "markdown",
   "metadata": {},
   "source": [
    "![UTOOLS1563065606917.png](https://i.loli.net/2019/07/14/5d2a7cf7a56be56750.png)"
   ]
  },
  {
   "cell_type": "markdown",
   "metadata": {},
   "source": [
    "![UTOOLS1563065696548.png](https://i.loli.net/2019/07/14/5d2a7d51377d333800.png)"
   ]
  },
  {
   "cell_type": "markdown",
   "metadata": {},
   "source": [
    "![UTOOLS1563065821938.png](https://i.loli.net/2019/07/14/5d2a7dceac39257036.png)"
   ]
  },
  {
   "cell_type": "markdown",
   "metadata": {},
   "source": [
    "![UTOOLS1563065883041.png](https://i.loli.net/2019/07/14/5d2a7e0bc01ea19447.png)"
   ]
  },
  {
   "cell_type": "markdown",
   "metadata": {},
   "source": [
    "![UTOOLS1563065947147.png](https://i.loli.net/2019/07/14/5d2a7e4bcd6a142441.png)"
   ]
  },
  {
   "cell_type": "markdown",
   "metadata": {},
   "source": [
    "![UTOOLS1563066016002.png](https://i.loli.net/2019/07/14/5d2a7e90aef6896303.png)"
   ]
  },
  {
   "cell_type": "markdown",
   "metadata": {},
   "source": [
    "![UTOOLS1563066167730.png](https://i.loli.net/2019/07/14/5d2a7f286791369613.png)"
   ]
  },
  {
   "cell_type": "markdown",
   "metadata": {},
   "source": [
    "![UTOOLS1563066203405.png](https://i.loli.net/2019/07/14/5d2a7f4c19f5c93547.png)"
   ]
  },
  {
   "cell_type": "markdown",
   "metadata": {},
   "source": [
    "![UTOOLS1563066308921.png](https://i.loli.net/2019/07/14/5d2a7fb65456d23103.png)"
   ]
  },
  {
   "cell_type": "markdown",
   "metadata": {},
   "source": [
    "![UTOOLS1563066413739.png](https://i.loli.net/2019/07/14/5d2a801fc376562473.png)"
   ]
  },
  {
   "cell_type": "markdown",
   "metadata": {},
   "source": [
    "![UTOOLS1563066449522.png](https://i.loli.net/2019/07/14/5d2a804237fff71218.png)"
   ]
  },
  {
   "cell_type": "markdown",
   "metadata": {},
   "source": [
    "![UTOOLS1563066497422.png](https://i.loli.net/2019/07/14/5d2a807217d4219383.png)\n",
    "![UTOOLS1563066542687.png](https://i.loli.net/2019/07/14/5d2a809f5fae236741.png)"
   ]
  },
  {
   "cell_type": "markdown",
   "metadata": {},
   "source": [
    "![UTOOLS1563066593243.png](https://i.loli.net/2019/07/14/5d2a80d1e203955419.png)\n",
    "![UTOOLS1563066625243.png](https://i.loli.net/2019/07/14/5d2a80f1e3f3c48873.png)"
   ]
  },
  {
   "cell_type": "markdown",
   "metadata": {},
   "source": [
    "![UTOOLS1563066705587.png](https://i.loli.net/2019/07/14/5d2a81424865c50220.png)"
   ]
  },
  {
   "cell_type": "markdown",
   "metadata": {},
   "source": [
    "![UTOOLS1563066767274.png](https://i.loli.net/2019/07/14/5d2a817fecbf095607.png)"
   ]
  },
  {
   "cell_type": "markdown",
   "metadata": {},
   "source": [
    "![UTOOLS1563066899235.png](https://i.loli.net/2019/07/14/5d2a8203e792558490.png)"
   ]
  },
  {
   "cell_type": "markdown",
   "metadata": {},
   "source": [
    "![UTOOLS1563066943219.png](https://i.loli.net/2019/07/14/5d2a822fe0d8b28808.png)"
   ]
  },
  {
   "cell_type": "markdown",
   "metadata": {},
   "source": [
    "![UTOOLS1563066983647.png](https://i.loli.net/2019/07/14/5d2a825851abb48751.png)"
   ]
  },
  {
   "cell_type": "markdown",
   "metadata": {},
   "source": [
    "![UTOOLS1563067021493.png](https://i.loli.net/2019/07/14/5d2a827e318c530775.png)"
   ]
  },
  {
   "cell_type": "markdown",
   "metadata": {},
   "source": [
    "![UTOOLS1563067057743.png](https://i.loli.net/2019/07/14/5d2a82a26ea4913611.png)"
   ]
  },
  {
   "cell_type": "code",
   "execution_count": null,
   "metadata": {},
   "outputs": [],
   "source": []
  }
 ],
 "metadata": {
  "kernelspec": {
   "display_name": "Python 3",
   "language": "python",
   "name": "python3"
  },
  "language_info": {
   "codemirror_mode": {
    "name": "ipython",
    "version": 3
   },
   "file_extension": ".py",
   "mimetype": "text/x-python",
   "name": "python",
   "nbconvert_exporter": "python",
   "pygments_lexer": "ipython3",
   "version": "3.7.3"
  }
 },
 "nbformat": 4,
 "nbformat_minor": 2
}
