{
 "cells": [
  {
   "cell_type": "markdown",
   "metadata": {},
   "source": [
    "### Traits的基础"
   ]
  },
  {
   "cell_type": "markdown",
   "metadata": {},
   "source": [
    "![UTOOLS1563068026139.png](https://i.loli.net/2019/07/14/5d2a866b7505912851.png)"
   ]
  },
  {
   "cell_type": "markdown",
   "metadata": {},
   "source": [
    "### TraitsUI库"
   ]
  },
  {
   "cell_type": "code",
   "execution_count": null,
   "metadata": {},
   "outputs": [],
   "source": [
    "from traits.api import HasTraits, Str, Int\n",
    "from traitsui.api import View, Item, Group, HSplit, VGroup\n",
    "from traitsui.menu import ModalButtons\n",
    "\n",
    "\n",
    "g1 = [Item(\"model_name\", label=\"模型名称\"),\n",
    "      Item(\"category\", label=\"模型类型\")]\n",
    "\n",
    "g2 = [Item(\"model_number\", label=\"模型数量\"),\n",
    "      Item(\"vertices\", label=\"顶点数量\")]\n",
    "\n",
    "\n",
    "class ModelManager(HasTraits):\n",
    "    model_name = Str\n",
    "    category = Str\n",
    "    model_file = Str\n",
    "    model_number = Int\n",
    "    vertices = Int\n",
    "    tarits_view = View(\n",
    "        Group(*g1, label=\"模型信息\", show_border=True),\n",
    "        Group(*g2, label=\"模型信息\", show_border=True),\n",
    "        title=\"内部视图\"\n",
    "    )\n",
    "\n",
    "\n",
    "global_view = View(\n",
    "    Group(*g1, label=\"模型信息\", show_border=True),\n",
    "    Group(*g2, label=\"模型信息\", show_border=True),\n",
    "    title=\"外部视图\"\n",
    ")\n",
    "\n",
    "view1 = View(\n",
    "    Group(\n",
    "        Group(\n",
    "            Item(\"model_name\", label=\"模型名称\"),\n",
    "            Item(\"model_file\", label=\"文件名\", tooltip=\"路径及文件名\"),\n",
    "            Item(\"category\", label=\"模型类型\"),\n",
    "            label=\"模型信息\",\n",
    "            show_border=True),\n",
    "        Group(\n",
    "            Item(\"model_number\", label=\"模型数量\"),\n",
    "            Item(\"vertices\", label=\"顶点数量\"),\n",
    "            label=\"统计数据\",\n",
    "            show_border=True),\n",
    "        orientation=\"horizontal\"\n",
    "    ))\n",
    "\n",
    "\n",
    "view2 = View(\n",
    "    HSplit(\n",
    "        VGroup(\n",
    "            Item(\"model_name\", label=\"模型名称\"),\n",
    "            Item(\"model_file\", label=\"文件名\", tooltip=\"路径及文件名\"),\n",
    "            Item(\"category\", label=\"模型类型\"),\n",
    "            label=\"模型信息\",\n",
    "            show_border=True),\n",
    "        VGroup(\n",
    "            Item(\"model_number\", label=\"模型数量\"),\n",
    "            Item(\"vertices\", label=\"顶点数量\"),\n",
    "            label=\"统计数据\",\n",
    "            show_border=True),\n",
    "        \n",
    "    ),\n",
    "    kind = \"modal\",\n",
    "    buttons = ModalButtons\n",
    "\n",
    ")\n",
    "\n",
    "\n",
    "model = ModelManager()\n",
    "model.configure_traits(view=view2)\n",
    "# model.edit_traits()"
   ]
  },
  {
   "cell_type": "markdown",
   "metadata": {},
   "source": [
    "### 自定义界面\n",
    "![UTOOLS1563069009469.png](https://i.loli.net/2019/07/14/5d2a8a429495292238.png)"
   ]
  },
  {
   "cell_type": "markdown",
   "metadata": {},
   "source": [
    "![UTOOLS1563069057550.png](https://i.loli.net/2019/07/14/5d2a8a723bfb518570.png)"
   ]
  },
  {
   "cell_type": "markdown",
   "metadata": {},
   "source": [
    "![UTOOLS1563069370236.png](https://i.loli.net/2019/07/14/5d2a8bab5a6b759123.png)"
   ]
  },
  {
   "cell_type": "markdown",
   "metadata": {},
   "source": [
    "![UTOOLS1563069430440.png](https://i.loli.net/2019/07/14/5d2a8be72401343612.png)"
   ]
  },
  {
   "cell_type": "markdown",
   "metadata": {},
   "source": [
    "![UTOOLS1563069582946.png](https://i.loli.net/2019/07/14/5d2a8c7fa64ec17982.png)"
   ]
  },
  {
   "cell_type": "markdown",
   "metadata": {},
   "source": [
    "![UTOOLS1563070312799.png](https://i.loli.net/2019/07/14/5d2a8f5a168b989173.png)"
   ]
  },
  {
   "cell_type": "markdown",
   "metadata": {},
   "source": [
    "![UTOOLS1563070517848.png](https://i.loli.net/2019/07/14/5d2a902704bb673198.png)\n",
    "![UTOOLS1563070549291.png](https://i.loli.net/2019/07/14/5d2a90460309279064.png)"
   ]
  },
  {
   "attachments": {},
   "cell_type": "markdown",
   "metadata": {},
   "source": [
    "![UTOOLS1563071243632.png](https://i.loli.net/2019/07/14/5d2a92fcdd04b15356.png)\n",
    "![UTOOLS1563071319676.png](https://i.loli.net/2019/07/14/5d2a9348d5ea910363.png)\n",
    "![UTOOLS1563071346256.png](https://i.loli.net/2019/07/14/5d2a93630367740604.png)"
   ]
  },
  {
   "attachments": {},
   "cell_type": "markdown",
   "metadata": {},
   "source": [
    "![UTOOLS1563071437588.png](https://i.loli.net/2019/07/14/5d2a93be4b3ef21441.png)"
   ]
  },
  {
   "cell_type": "markdown",
   "metadata": {},
   "source": [
    "![UTOOLS1563071584320.png](https://i.loli.net/2019/07/14/5d2a94510f3b653044.png)"
   ]
  },
  {
   "cell_type": "markdown",
   "metadata": {},
   "source": [
    "![UTOOLS1563071646817.png](https://i.loli.net/2019/07/14/5d2a9490bd37484729.png)"
   ]
  },
  {
   "cell_type": "markdown",
   "metadata": {},
   "source": [
    "![UTOOLS1563071999090.png](https://i.loli.net/2019/07/14/5d2a95f09bb8c32388.png)"
   ]
  },
  {
   "cell_type": "code",
   "execution_count": 12,
   "metadata": {},
   "outputs": [
    {
     "data": {
      "text/plain": [
       "True"
      ]
     },
     "execution_count": 12,
     "metadata": {},
     "output_type": "execute_result"
    }
   ],
   "source": [
    "from traits.api import HasTraits,Str,Password\n",
    "from traitsui.api import Item,Group,View\n",
    "\n",
    "class TextEditor(HasTraits):\n",
    "    # 定义文本编辑器的变量\n",
    "    string_tarit = Str(\"sample string\")\n",
    "    password = Password\n",
    " \n",
    "    # 定义布局\n",
    "    text_str_group = Group(\n",
    "        Item(\"string_tarit\",style = \"simple\",label=\"Simple\"),\n",
    "        Item(\"_\"),\n",
    "        Item(\"string_tarit\",style = \"custom\",label=\"Custom\"),\n",
    "        Item(\"_\"),\n",
    "        Item(\"password\",style = \"simple\",label=\"password\")\n",
    "        )\n",
    "    # 定义视图\n",
    "    traits_view = View(\n",
    "        text_str_group,\n",
    "        title=\"TextEditor\",\n",
    "        buttons = [\"ok\"]\n",
    "        )\n",
    "\n",
    "text = TextEditor()\n",
    "text.configure_traits()"
   ]
  },
  {
   "attachments": {},
   "cell_type": "markdown",
   "metadata": {},
   "source": [
    "![UTOOLS1563072790533.png](https://i.loli.net/2019/07/14/5d2a9907f40d860993.png)\n",
    "![UTOOLS1563072849802.png](https://i.loli.net/2019/07/14/5d2a99429831b94684.png)\n",
    "![UTOOLS1563072897745.png](https://i.loli.net/2019/07/14/5d2a99730843580962.png)"
   ]
  },
  {
   "cell_type": "code",
   "execution_count": 16,
   "metadata": {},
   "outputs": [
    {
     "data": {
      "text/plain": [
       "True"
      ]
     },
     "execution_count": 16,
     "metadata": {},
     "output_type": "execute_result"
    }
   ],
   "source": [
    "from traits.api import HasTraits,Button,Int\n",
    "from traitsui.api import View\n",
    "\n",
    "class ButtonEditor(HasTraits):\n",
    "    my_button = Button(\"点击我\")\n",
    "    counter = Int\n",
    "    \n",
    "    def _my_button_fired(self):\n",
    "        self.counter  += 1\n",
    "    \n",
    "    tarits_view = View(\n",
    "        \"my_button\",\n",
    "        \"counter\",\n",
    "        title = \"ButtonEditor\",\n",
    "        buttons = [\"ok\"],\n",
    "        resizable = True\n",
    "        )\n",
    "\n",
    "    \n",
    "button = ButtonEditor()\n",
    "button.configure_traits()"
   ]
  },
  {
   "cell_type": "markdown",
   "metadata": {},
   "source": [
    "![UTOOLS1563073351848.png](https://i.loli.net/2019/07/14/5d2a9b391fa9a52938.png)\n",
    "![UTOOLS1563073378769.png](https://i.loli.net/2019/07/14/5d2a9b537910d14418.png)\n",
    "![UTOOLS1563073459467.png](https://i.loli.net/2019/07/14/5d2a9ba431dc824568.png)"
   ]
  },
  {
   "cell_type": "code",
   "execution_count": null,
   "metadata": {},
   "outputs": [],
   "source": [
    "# 滑动条\n",
    "from traits.api import HasTraits,Int,Range,property_depends_on,Property\n",
    "from traitsui.api import View,Item,RangeEditor\n",
    "\n",
    "class RangeDemo(HasTraits):\n",
    "    a = Range(1,10)\n",
    "    b = Range(1,10)\n",
    "    c = Property(Int)\n",
    "    view = View(\n",
    "        Item('a'),\n",
    "        Item(\"b\"),\n",
    "        \"_\",\n",
    "        Item(\"c\",editor=RangeEditor(low=1,high=20,mode=\"slider\")),\n",
    "        Item(\"c\"),\n",
    "        width=0.3\n",
    "    )\n",
    "    @property_depends_on(\"a,b\",settable=True)\n",
    "    def _get_c(self):\n",
    "        return (self.a + self.b)\n",
    "\n",
    "ran = RangeDemo()\n",
    "ran.configure_traits()"
   ]
  },
  {
   "cell_type": "markdown",
   "metadata": {},
   "source": [
    "![UTOOLS1563074433828.png](https://i.loli.net/2019/07/14/5d2a9f73210ad26235.png)"
   ]
  },
  {
   "cell_type": "markdown",
   "metadata": {},
   "source": [
    "![UTOOLS1563074464615.png](https://i.loli.net/2019/07/14/5d2a9fa5028fd59332.png)"
   ]
  },
  {
   "cell_type": "markdown",
   "metadata": {},
   "source": [
    "![UTOOLS1563074499176.png](https://i.loli.net/2019/07/14/5d2a9fb3dfdfd52600.png)"
   ]
  },
  {
   "cell_type": "markdown",
   "metadata": {},
   "source": [
    "![UTOOLS1563074549295.png](https://i.loli.net/2019/07/14/5d2a9fe5eea9596978.png)"
   ]
  },
  {
   "cell_type": "code",
   "execution_count": null,
   "metadata": {},
   "outputs": [],
   "source": []
  }
 ],
 "metadata": {
  "kernelspec": {
   "display_name": "Python 3",
   "language": "python",
   "name": "python3"
  },
  "language_info": {
   "codemirror_mode": {
    "name": "ipython",
    "version": 3
   },
   "file_extension": ".py",
   "mimetype": "text/x-python",
   "name": "python",
   "nbconvert_exporter": "python",
   "pygments_lexer": "ipython3",
   "version": "3.7.3"
  }
 },
 "nbformat": 4,
 "nbformat_minor": 2
}
