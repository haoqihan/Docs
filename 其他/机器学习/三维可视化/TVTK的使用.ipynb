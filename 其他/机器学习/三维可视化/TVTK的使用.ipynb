{
 "cells": [
  {
   "cell_type": "markdown",
   "metadata": {},
   "source": [
    "### 科学计算可视化的主要方法\n",
    "- 二维标量数据场\n",
    "- 三维标量数据场\n",
    "- 矢量数据场"
   ]
  },
  {
   "cell_type": "markdown",
   "metadata": {},
   "source": [
    "### 颜色映射法\n",
    "- 将颜色与数据之间建立映射关系\n",
    "\n",
    "\n",
    "### 等值线方法\n",
    "### 立体图法和层次分割法\n"
   ]
  },
  {
   "cell_type": "markdown",
   "metadata": {},
   "source": [
    "### 面绘制法\n",
    "### 体绘制法"
   ]
  },
  {
   "cell_type": "markdown",
   "metadata": {},
   "source": [
    "### 矢量数据场直接法\n",
    "- 用箭头、线段、色轮等手段表示矢量数据\n",
    "\n",
    "\n",
    "### 矢量数据场流线法"
   ]
  },
  {
   "cell_type": "markdown",
   "metadata": {},
   "source": [
    "### TVTK库\n",
    "#### 安装\n",
    "```\n",
    "pip install vtk\n",
    "```"
   ]
  },
  {
   "cell_type": "code",
   "execution_count": 1,
   "metadata": {},
   "outputs": [],
   "source": [
    "from tvtk.tools import tvtk_doc"
   ]
  },
  {
   "cell_type": "code",
   "execution_count": 2,
   "metadata": {},
   "outputs": [],
   "source": [
    "tvtk_doc.main()"
   ]
  },
  {
   "cell_type": "code",
   "execution_count": 3,
   "metadata": {},
   "outputs": [],
   "source": [
    "from tvtk.api import tvtk"
   ]
  },
  {
   "cell_type": "code",
   "execution_count": 34,
   "metadata": {
    "collapsed": true
   },
   "outputs": [
    {
     "name": "stdout",
     "output_type": "stream",
     "text": [
      "vtkAlgorithmOutput (000001F6FE2F9BF0)\n",
      "  Debug: Off\n",
      "  Modified Time: 1452338\n",
      "  Reference Count: 2\n",
      "  Registered Events: \n",
      "    Registered Observers:\n",
      "      vtkObserver (000001F6FE657970)\n",
      "        Event: 33\n",
      "        EventName: ModifiedEvent\n",
      "        Command: 000001F6FE2E6050\n",
      "        Priority: 0\n",
      "        Tag: 1\n",
      "  Producer: 000001F6F47D7E70\n",
      "  Index: 0\n",
      "\n",
      "\n"
     ]
    }
   ],
   "source": [
    "# 立方体单位数据源\n",
    "s = tvtk.CubeSource(x_length=1.0,y_length=2.0,z_length=3.0)\n",
    "print(s.output_port)"
   ]
  },
  {
   "cell_type": "markdown",
   "metadata": {},
   "source": [
    "### CubeSource 对象的属性\n",
    " |属性|说明|\n",
    " |--|--|\n",
    " |s.x_length|长方体对象在x轴的长度|\n",
    " |s.y_lenght|长方体对象在y轴的长度|\n",
    " |s.z_length|长方体在z轴方向的长度|\n",
    " |s.center|长方体对象所在坐标系的原点|\n",
    " |s.output_points_precision| 长方体对象的精度|"
   ]
  },
  {
   "cell_type": "markdown",
   "metadata": {},
   "source": [
    "### CubeSource 对象的方法\n",
    "|方法|说明|\n",
    "|-|-|\n",
    "|set/get_x_length()|设置、获取长方体对象在x轴方向的长度|\n",
    "|set/get_y_length()|设置、获取长方体对象在y轴方向的长度|\n",
    "|set/get_z_length()|设置、获取长方体对象在z轴方向的长度|\n",
    "|set/get_center()|设置、获取长方体对象在所在坐标系的原点|\n",
    "|set/get_bounds()|设置、获取长方体对象的包围盒|"
   ]
  },
  {
   "cell_type": "markdown",
   "metadata": {},
   "source": [
    "### Tvtk 库的基本三维对象\n",
    "|三维对象|说明|\n",
    "|-|-|\n",
    "|CubeSource|立方体单位对象数据源|\n",
    "|ConeSource|圆锥三维对象数据源|\n",
    "|CylinederSource|圆柱三维对象数据源|\n",
    "|ArcSource|圆弧三维对象数据源|\n",
    "|ArrowSource|箭头三维对象数据源|\n"
   ]
  },
  {
   "cell_type": "markdown",
   "metadata": {},
   "source": [
    "### 显示一个长方体\n",
    "### 原始数据转换为屏幕上图像，TVTK对象共同协调完成\n",
    "- vtk.CubeSource\n",
    "- tvtk.PolyDataMapper\n",
    "- tvtk.Actor\n",
    "-  tvtk.Renderer\n",
    "- tvtk.RenderWindow\n",
    "- tvtk.RenderWindowInteractor\n",
    "\n",
    "\n",
    "在TVTK中，这种对象之间协调完成工作的过程被称作管线（Pipeline）\n"
   ]
  },
  {
   "cell_type": "code",
   "execution_count": 17,
   "metadata": {
    "collapsed": true
   },
   "outputs": [
    {
     "name": "stdout",
     "output_type": "stream",
     "text": [
      "vtkConeSource (000001F6FDDE7410)\n",
      "  Debug: Off\n",
      "  Modified Time: 1187315\n",
      "  Reference Count: 2\n",
      "  Registered Events: \n",
      "    Registered Observers:\n",
      "      vtkObserver (000001F6F49FD6C0)\n",
      "        Event: 33\n",
      "        EventName: ModifiedEvent\n",
      "        Command: 000001F6FE2E2F50\n",
      "        Priority: 0\n",
      "        Tag: 1\n",
      "  Executive: 000001F6F21936B0\n",
      "  ErrorCode: No error\n",
      "  Information: 000001F6FE2ED4E0\n",
      "  AbortExecute: Off\n",
      "  Progress: 0\n",
      "  Progress Text: (None)\n",
      "  Resolution: 36\n",
      "  Height: 3\n",
      "  Radius: 1\n",
      "  Capping: On\n",
      "  Center: (0, 0, 0)\n",
      "  Direction: (1, 0, 0)\n",
      "  Output Points Precision: 0\n",
      "\n",
      "\n"
     ]
    }
   ],
   "source": [
    "# 圆锥三维对象数据源\n",
    "s = tvtk.ConeSource(height=3.0,radius=1.0,resolution=36)\n",
    "print(s)"
   ]
  },
  {
   "cell_type": "code",
   "execution_count": 32,
   "metadata": {},
   "outputs": [],
   "source": [
    "# 显示一个长方体\n",
    "from tvtk.api import tvtk\n",
    "\n",
    "# 创建一个长方体数据源，并同时设置长宽高\n",
    "s = tvtk.CubeSource(x_length=1.0,y_length=2.0,z_length=3.0)\n",
    "# 使用polyDataMapper 将数据转换为图形数据\n",
    "m = tvtk.PolyDataMapper(input_connection=s.output_port)\n",
    "# 创建一个Actor\n",
    "a = tvtk.Actor(mapper=m)\n",
    "# 创建一个renderer，将Actor添加进去\n",
    "r = tvtk.Renderer(background=(0,0,0))\n",
    "r.add_actor(a)\n",
    "# 创建一个renderwindow（窗口），将renderer添加进去\n",
    "w = tvtk.RenderWindow(size=(300,300))\n",
    "w.add_renderer(r)\n",
    "# 创建一个renderWindowInteractor\n",
    "i = tvtk.RenderWindowInteractor(render_window=w)\n",
    "# 开启交互\n",
    "i.initialize()\n",
    "i.start()"
   ]
  },
  {
   "cell_type": "markdown",
   "metadata": {},
   "source": [
    "## TVTK的管线\n",
    "\n",
    "### 理解管线\n",
    "#### 管线技术（Pipeline，流水线）\n",
    "**可视化管线（Visualization Pipeline）**：将原始数据加工成图形数据的过程\n",
    "\n",
    "**图形管线（Graphics Pipeline）**：图形数据加工成为我们所看到的图像的过程\n",
    "\n",
    "\n",
    "\n"
   ]
  },
  {
   "cell_type": "markdown",
   "metadata": {},
   "source": [
    "<center><h3>可视化管线</h3></center>\n",
    "\n",
    "|TVTK对象|说明|\n",
    "|-|-|\n",
    "|CubeSource|通过程序内部计算输出一组描述长方体的数据（PolyData）|\n",
    "|PolyDataMapper|PolyData通过该映射器将数据映射为图形数据（mapper）|\n"
   ]
  },
  {
   "cell_type": "markdown",
   "metadata": {},
   "source": [
    "<center><h3>可视化管线</h3></center>\n",
    "\n",
    "|TVTK对象|说明|\n",
    "|-|-|\n",
    "|Actor|场景中的一个实体，他包括一个数据图形（mapper），具有描述该实体的位置，方向，大小的属性|\n",
    "|Renderer|渲染的场景，他包括多个渲染的Actor|\n",
    "|RenderWindow|渲染用的图形窗口，他包含一个或多个Render|\n",
    "|RenderWindowInteractor|给图形窗口提供一些用户交互功能，例如平移，旋转、放大缩小。这些交互式操作并不改变Actor或者图形数据的属性，只是调整场景中照相机（camera）的一些位置|"
   ]
  },
  {
   "cell_type": "code",
   "execution_count": 42,
   "metadata": {},
   "outputs": [],
   "source": [
    "from tvtk.api import tvtk\n",
    "\n",
    "def ivtk_scenc(actors):\n",
    "    from tvtk.tools import ivtk\n",
    "    # 创建一个带crust（python shell）窗口\n",
    "    win = ivtk.IVTKWithCrustAndBrowser()\n",
    "    win.open()\n",
    "    win.scene.add_actor(actors)\n",
    "    # 修改错误\n",
    "    dialog = win.control.centralWidget().widget(0).widget(0)\n",
    "    from pyface.qt import QtCore\n",
    "    dialog.setWindowFlags(QtCore.Qt.WindowFlags(0x00000000))\n",
    "    dialog.show()\n",
    "    return win\n",
    "\n",
    "def event_loop():\n",
    "    from pyface.api import GUI\n",
    "    gui = GUI()\n",
    "    # 开始界面消息循环\n",
    "    gui.start_event_loop()\n",
    "    \n",
    "\n",
    "s = tvtk.CubeSource(x_length=1.0,y_length=2.0,z_length=3.0)\n",
    "m = tvtk.PolyDataMapper(input_connection=s.output_port)\n",
    "a = tvtk.Actor(mapper=m)\n",
    "win = ivtk_scenc(a)\n",
    "win.scene.isometric_view()\n",
    "event_loop()\n"
   ]
  },
  {
   "cell_type": "markdown",
   "metadata": {},
   "source": [
    "<center><h3>照相机属性</h3></center>\n",
    "\n",
    "|属性|说明|\n",
    "|:-|:-|\n",
    "|clipping_plane|他有两个元素，分别表示相机到近、远两个裁切平面的距离，在这两个平面范围之内将不会显示|\n",
    "|position|照相机在三维空间的坐标|\n",
    "|focal_point|照相机所聚焦的焦点坐标|\n",
    "|view_up|照相机的上方向矢量|\n"
   ]
  },
  {
   "cell_type": "markdown",
   "metadata": {},
   "source": [
    "### 数据集（Dataset）\n",
    "* 点（point）和数据（Data）\n",
    "* 点之间：连接vs非连接\n",
    "* 多个相关的点组成单元（cell）\n",
    "* 点的连接：显示 vs 隐式\n",
    "* 数据：标量（Scalar） vs 矢量（Vector）"
   ]
  },
  {
   "cell_type": "markdown",
   "metadata": {},
   "source": [
    "### 数据集 Imagedata\n",
    "imagedata 表示二维或三维图像的数据结构\n",
    "\n",
    "|参数|说明|\n",
    "|-|-|\n",
    "|origin|三维网格数据的起点坐标|\n",
    "|spacing|三维网格数据在X、Y、Z轴上的间距|\n",
    "|dimensions|为在X、Y、Z轴上的网格数|"
   ]
  },
  {
   "cell_type": "code",
   "execution_count": 49,
   "metadata": {},
   "outputs": [
    {
     "data": {
      "text/plain": [
       "(1.0, 2.0, 3.0)"
      ]
     },
     "execution_count": 49,
     "metadata": {},
     "output_type": "execute_result"
    }
   ],
   "source": [
    "from tvtk.api import tvtk\n",
    "img = tvtk.ImageData(spacing=(1,1,1),origin=(1,2,3),dimensions=(3,4,5))\n",
    "img.get_point(0)"
   ]
  },
  {
   "cell_type": "markdown",
   "metadata": {},
   "source": [
    "### 数据集 RectilinearGrid\n",
    "RectilinearGrid：距离不均匀的网格，所有点都在正交的网格上"
   ]
  },
  {
   "cell_type": "code",
   "execution_count": 53,
   "metadata": {
    "collapsed": true
   },
   "outputs": [
    {
     "name": "stdout",
     "output_type": "stream",
     "text": [
      "(0.0, 0.0, 0.0)\n",
      "(3.0, 0.0, 0.0)\n",
      "(9.0, 0.0, 0.0)\n",
      "(15.0, 0.0, 0.0)\n",
      "(0.0, 1.0, 0.0)\n",
      "(3.0, 1.0, 0.0)\n"
     ]
    }
   ],
   "source": [
    "from tvtk.api import tvtk\n",
    "import numpy as np\n",
    "\n",
    "x = np.array([0,3,9,15])\n",
    "y = np.array([0,1,5])\n",
    "z = np.array([0,2,3])\n",
    "r = tvtk.RectilinearGrid()\n",
    "r.x_coordinates = x\n",
    "r.y_coordinates = y\n",
    "r.z_coordinates = z\n",
    "r.dimensions = len(x),len(y),len(z)\n",
    "\n",
    "for i in range(6):\n",
    "    print(r.get_point(i))"
   ]
  },
  {
   "cell_type": "markdown",
   "metadata": {},
   "source": [
    "### StructuredGrid\n",
    "structuredGrid:创建任意形状的网格，需要指定点的坐标\n"
   ]
  },
  {
   "cell_type": "markdown",
   "metadata": {},
   "source": [
    "### PolyData\n",
    "polydata: 由一系列的点、点之间的联系以及由点构成的多边形组成"
   ]
  },
  {
   "cell_type": "markdown",
   "metadata": {},
   "source": [
    "### TVTK模型读取\n",
    "s = tvtk.STLReader(file_name=\"stl文件名\")\n",
    "\n",
    "### TVTK MultiBlock数据读取\n",
    "```\n",
    "from tvtk.api import tvtk\n",
    "\n",
    "tvtk.MultiBlockPLOT3DReader(\n",
    "    xyz_file_name=\"combxyz.bin\", # 网格文件\n",
    "    q_file_name=\"combq.bin\", # 空气动力学结果文件\n",
    "    scalar_function_number=100, # 设置标量数据数量\n",
    "    vector_function_number=200 # 设置矢量数据数量\n",
    ")\n",
    "```\n"
   ]
  },
  {
   "cell_type": "code",
   "execution_count": 56,
   "metadata": {},
   "outputs": [
    {
     "data": {
      "text/plain": [
       "<tvtk.tvtk_classes.multi_block_plot3d_reader.MultiBlockPLOT3DReader at 0x1f68f0ada98>"
      ]
     },
     "execution_count": 56,
     "metadata": {},
     "output_type": "execute_result"
    }
   ],
   "source": [
    "from tvtk.api import tvtk\n",
    "\n",
    "tvtk.MultiBlockPLOT3DReader(\n",
    "    xyz_file_name=\"combxyz.bin\", # 网格文件\n",
    "    q_file_name=\"combq.bin\", # 空气动力学结果文件\n",
    "    scalar_function_number=100, # 设置标量数据数量\n",
    "    vector_function_number=200 # 设置矢量数据数量\n",
    ")"
   ]
  },
  {
   "cell_type": "markdown",
   "metadata": {},
   "source": [
    "### tvtk.ContourFilter()等值面过滤器\n",
    "\n",
    "|方法|说明|\n",
    "|-|-|\n",
    "|generate_values()| 设定n条等值线的值，一般用于重新绘制等值线|\n",
    "|set_value()|设置一条等值线的值，一般用于覆盖某条等值线或者新增一条等值线|"
   ]
  },
  {
   "cell_type": "markdown",
   "metadata": {},
   "source": [
    "### Glyph3D\n",
    "```\n",
    "# 对数据集中的数据进行随机选取，每50个点选择一个点\n",
    "mask = tvtk.MaskPoints(random_mode=True,on_ratio=50)\n",
    "mask.set_input_data(grid)\n",
    "# 创建表示箭头的polydata数据集\n",
    "glyph_source = tvtk.ArrowSource()\n",
    "# 在Mask采样之后的polydata数据集每个点放置一个箭头\n",
    "# 箭头的方向，长度和颜色由于点对应的矢量和标量数据决定\n",
    "glyph = tvtk.Glyph3D(input_connection=mask.output_port,scale_factor=4)\n",
    "glyph.set_source_connection(glyph_source.output_port)\n",
    "m = tvtk.PolyDataMapper(scalar_range=grid.point_data.scalars.range,input_connection=grid.output_port)\n",
    "a = tvtk.Actor(mapper=m)\n",
    "```"
   ]
  },
  {
   "cell_type": "code",
   "execution_count": 59,
   "metadata": {
    "collapsed": true
   },
   "outputs": [
    {
     "ename": "NameError",
     "evalue": "name 'grid' is not defined",
     "output_type": "error",
     "traceback": [
      "\u001b[1;31m---------------------------------------------------------------------------\u001b[0m",
      "\u001b[1;31mNameError\u001b[0m                                 Traceback (most recent call last)",
      "\u001b[1;32m<ipython-input-59-ec28268d2f3f>\u001b[0m in \u001b[0;36m<module>\u001b[1;34m\u001b[0m\n\u001b[0;32m      1\u001b[0m \u001b[1;31m# 对数据集中的数据进行随机选取，每50个点选择一个点\u001b[0m\u001b[1;33m\u001b[0m\u001b[1;33m\u001b[0m\u001b[1;33m\u001b[0m\u001b[0m\n\u001b[0;32m      2\u001b[0m \u001b[0mmask\u001b[0m \u001b[1;33m=\u001b[0m \u001b[0mtvtk\u001b[0m\u001b[1;33m.\u001b[0m\u001b[0mMaskPoints\u001b[0m\u001b[1;33m(\u001b[0m\u001b[0mrandom_mode\u001b[0m\u001b[1;33m=\u001b[0m\u001b[1;32mTrue\u001b[0m\u001b[1;33m,\u001b[0m\u001b[0mon_ratio\u001b[0m\u001b[1;33m=\u001b[0m\u001b[1;36m50\u001b[0m\u001b[1;33m)\u001b[0m\u001b[1;33m\u001b[0m\u001b[1;33m\u001b[0m\u001b[0m\n\u001b[1;32m----> 3\u001b[1;33m \u001b[0mmask\u001b[0m\u001b[1;33m.\u001b[0m\u001b[0mset_input_data\u001b[0m\u001b[1;33m(\u001b[0m\u001b[0mgrid\u001b[0m\u001b[1;33m)\u001b[0m\u001b[1;33m\u001b[0m\u001b[1;33m\u001b[0m\u001b[0m\n\u001b[0m\u001b[0;32m      4\u001b[0m \u001b[1;31m# 创建表示箭头的polydata数据集\u001b[0m\u001b[1;33m\u001b[0m\u001b[1;33m\u001b[0m\u001b[1;33m\u001b[0m\u001b[0m\n\u001b[0;32m      5\u001b[0m \u001b[0mglyph_source\u001b[0m \u001b[1;33m=\u001b[0m \u001b[0mtvtk\u001b[0m\u001b[1;33m.\u001b[0m\u001b[0mArrowSource\u001b[0m\u001b[1;33m(\u001b[0m\u001b[1;33m)\u001b[0m\u001b[1;33m\u001b[0m\u001b[1;33m\u001b[0m\u001b[0m\n",
      "\u001b[1;31mNameError\u001b[0m: name 'grid' is not defined"
     ]
    }
   ],
   "source": [
    "# 对数据集中的数据进行随机选取，每50个点选择一个点\n",
    "mask = tvtk.MaskPoints(random_mode=True,on_ratio=50)\n",
    "mask.set_input_data(grid)\n",
    "# 创建表示箭头的polydata数据集\n",
    "glyph_source = tvtk.ArrowSource()\n",
    "# 在Mask采样之后的polydata数据集每个点放置一个箭头\n",
    "# 箭头的方向，长度和颜色由于点对应的矢量和标量数据决定\n",
    "glyph = tvtk.Glyph3D(input_connection=mask.output_port,scale_factor=4)\n",
    "glyph.set_source_connection(glyph_source.output_port)\n",
    "m = tvtk.PolyDataMapper(scalar_range=grid.point_data.scalars.range,input_connection=grid.output_port)\n",
    "a = tvtk.Actor(mapper=m)"
   ]
  },
  {
   "cell_type": "code",
   "execution_count": null,
   "metadata": {},
   "outputs": [],
   "source": []
  }
 ],
 "metadata": {
  "kernelspec": {
   "display_name": "Python 3",
   "language": "python",
   "name": "python3"
  },
  "language_info": {
   "codemirror_mode": {
    "name": "ipython",
    "version": 3
   },
   "file_extension": ".py",
   "mimetype": "text/x-python",
   "name": "python",
   "nbconvert_exporter": "python",
   "pygments_lexer": "ipython3",
   "version": "3.7.3"
  }
 },
 "nbformat": 4,
 "nbformat_minor": 2
}
