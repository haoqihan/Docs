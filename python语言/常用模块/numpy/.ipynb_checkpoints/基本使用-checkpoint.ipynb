{
 "cells": [
  {
   "cell_type": "markdown",
   "metadata": {},
   "source": [
    "### numpy的基础使用"
   ]
  },
  {
   "cell_type": "code",
   "execution_count": null,
   "metadata": {},
   "outputs": [],
   "source": [
    "# 一维数组\n",
    "import numpy as np\n",
    "\n",
    "# 创建一个一维数组\n",
    "my_array = np.array(5)\n",
    "# 创建一个全部都是0的一维数组\n",
    "zero_array = np.zeros(5)\n",
    "# 创建一个全部都是1的一维数组\n",
    "one_array = np.ones((2,2))\n",
    "# 获取随机数组\n",
    "random_array = np.random.random((2,2))\n",
    "# 相当于range\n",
    "arange_array = np.arange(5)\n",
    "arange_array\n",
    "\n",
    "# numpy 的数组操作\n",
    "a = np.array([[1.0,2.0],[3.0,4.0]])\n",
    "b = np.array([[5.0,6.0],[7.0,8.0]])\n",
    "sum = a + b\n",
    "difference = a - b\n",
    "product = a * b\n",
    "quotient = a / b\n",
    "# 矩阵乘法\n",
    "matrix_product = a.dot(b) # 19 = 1 * 5 + 2 * 7   22 = 1 * 6 + 2 * 8\n",
    "matrix_product"
   ]
  },
  {
   "cell_type": "code",
   "execution_count": 38,
   "metadata": {},
   "outputs": [
    {
     "name": "stdout",
     "output_type": "stream",
     "text": [
      "[12 13 14]\n",
      "[16 21 26]\n",
      "[[11 13 15]\n",
      " [21 23 25]\n",
      " [31 33 35]]\n",
      "[12 17 22 27 32]\n",
      "4\n"
     ]
    }
   ],
   "source": [
    "# 多维数组\n",
    "a = np.array([[11, 12, 13, 14, 15],\n",
    "              [16, 17, 18, 19, 20],\n",
    "              [21, 22, 23, 24, 25],\n",
    "              [26, 27, 28 ,29, 30],\n",
    "              [31, 32, 33, 34, 35]])\n",
    "\n",
    "\n",
    "print(a[0,1:4])\n",
    "print(a[1:4,0])\n",
    "print(a[::2,::2])\n",
    "print(a[:, 1])"
   ]
  },
  {
   "cell_type": "code",
   "execution_count": 40,
   "metadata": {
    "collapsed": true
   },
   "outputs": [
    {
     "name": "stdout",
     "output_type": "stream",
     "text": [
      "<class 'numpy.ndarray'>\n",
      "int32\n",
      "25\n",
      "(5, 5)\n",
      "4\n",
      "2\n",
      "100\n"
     ]
    }
   ],
   "source": [
    "# 数组属性\n",
    "print(type(a))  # <class 'numpy.ndarray'>\n",
    "print(a.dtype) # 类型int32\n",
    "print(a.size) # 数组所有元素 25\n",
    "print(a.shape) # 数组的结构 5 * 5\n",
    "print(a.itemsize)  # 属性是每个项占用的字节数 这个是int 32 所以 32 / 8\n",
    "print(a.ndim)  # 数组的维度\n",
    "print(a.nbytes) # 属性是数组中的所有数据消耗掉的字节数\n"
   ]
  },
  {
   "cell_type": "code",
   "execution_count": 10,
   "metadata": {
    "collapsed": true
   },
   "outputs": [
    {
     "name": "stdout",
     "output_type": "stream",
     "text": [
      "[[ 10  63   3  17   6]\n",
      " [ 61  85   9   9  54]\n",
      " [ 14 103  17  68  77]\n",
      " [ 58  51  23  71  43]\n",
      " [ 76  24  78  67 102]]\n",
      "[[-10 -61   1 -11   2]\n",
      " [-51 -73   5   7 -36]\n",
      " [  6 -81   7 -42 -49]\n",
      " [-28 -19  11 -35  -5]\n",
      " [-36  18 -34 -21 -54]]\n",
      "[[   0   62    2   42    8]\n",
      " [ 280  474   14    8  405]\n",
      " [  40 1012   60  715  882]\n",
      " [ 645  560  102  954  456]\n",
      " [1120   63 1232 1012 1872]]\n",
      "[[0.         0.01612903 2.         0.21428571 2.        ]\n",
      " [0.08928571 0.07594937 3.5        8.         0.2       ]\n",
      " [2.5        0.11956522 2.4        0.23636364 0.22222222]\n",
      " [0.34883721 0.45714286 2.83333333 0.33962264 0.79166667]\n",
      " [0.35714286 7.         0.39285714 0.52272727 0.30769231]]\n",
      "[[  0   1   4   9  16]\n",
      " [ 25  36  49  64  81]\n",
      " [100 121 144 169 196]\n",
      " [225 256 289 324 361]\n",
      " [400 441 484 529 576]]\n",
      "[[ 417  380  254  446  555]\n",
      " [1262 1735  604 1281 1615]\n",
      " [2107 3090  954 2116 2675]\n",
      " [2952 4445 1304 2951 3735]\n",
      " [3797 5800 1654 3786 4795]]\n"
     ]
    }
   ],
   "source": [
    "a = np.arange(25)\n",
    "a = a.reshape((5,5))\n",
    "b = np.array([10, 62, 1, 14, 2, 56, 79, 2, 1, 45,\n",
    "              4, 92, 5, 55, 63, 43, 35, 6, 53, 24,\n",
    "              56, 3, 56, 44, 78])\n",
    "b = b.reshape((5,5))\n",
    "\n",
    "print(a + b)\n",
    "print(a - b)\n",
    "print(a * b)\n",
    "print(a / b)\n",
    "print(a **2)\n",
    "print(a.dot(b))"
   ]
  },
  {
   "cell_type": "markdown",
   "metadata": {},
   "source": [
    "### 数组特殊运算符\n",
    "#### # dot,sum,min,max,cumsum"
   ]
  },
  {
   "cell_type": "code",
   "execution_count": 15,
   "metadata": {
    "collapsed": true
   },
   "outputs": [
    {
     "name": "stdout",
     "output_type": "stream",
     "text": [
      "45\n",
      "0\n",
      "9\n",
      "[ 0  1  3  6 10 15 21 28 36 45]\n"
     ]
    }
   ],
   "source": [
    "a = np.arange(10)\n",
    "print(a.sum())\n",
    "print(a.min())\n",
    "print(a.max())\n",
    "print(a.cumsum())"
   ]
  },
  {
   "cell_type": "code",
   "execution_count": null,
   "metadata": {},
   "outputs": [],
   "source": []
  },
  {
   "cell_type": "markdown",
   "metadata": {},
   "source": [
    "### 索引进阶"
   ]
  },
  {
   "cell_type": "code",
   "execution_count": null,
   "metadata": {},
   "outputs": [],
   "source": []
  },
  {
   "cell_type": "code",
   "execution_count": null,
   "metadata": {},
   "outputs": [],
   "source": []
  },
  {
   "cell_type": "code",
   "execution_count": null,
   "metadata": {},
   "outputs": [],
   "source": []
  },
  {
   "cell_type": "code",
   "execution_count": null,
   "metadata": {},
   "outputs": [],
   "source": []
  }
 ],
 "metadata": {
  "kernelspec": {
   "display_name": "Python 3",
   "language": "python",
   "name": "python3"
  },
  "language_info": {
   "codemirror_mode": {
    "name": "ipython",
    "version": 3
   },
   "file_extension": ".py",
   "mimetype": "text/x-python",
   "name": "python",
   "nbconvert_exporter": "python",
   "pygments_lexer": "ipython3",
   "version": "3.7.3"
  },
  "toc": {
   "base_numbering": 1,
   "nav_menu": {},
   "number_sections": true,
   "sideBar": true,
   "skip_h1_title": false,
   "title_cell": "Table of Contents",
   "title_sidebar": "Contents",
   "toc_cell": false,
   "toc_position": {},
   "toc_section_display": true,
   "toc_window_display": false
  }
 },
 "nbformat": 4,
 "nbformat_minor": 2
}
