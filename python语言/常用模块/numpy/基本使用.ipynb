{
 "cells": [
  {
   "cell_type": "code",
   "execution_count": 1,
   "metadata": {},
   "outputs": [],
   "source": [
    "# 一维数组\n",
    "import numpy as np"
   ]
  },
  {
   "cell_type": "code",
   "execution_count": 25,
   "metadata": {},
   "outputs": [
    {
     "data": {
      "text/plain": [
       "array([0, 1, 2, 3, 4])"
      ]
     },
     "execution_count": 25,
     "metadata": {},
     "output_type": "execute_result"
    }
   ],
   "source": [
    "# 创建一个一维数组\n",
    "my_array = np.array(5)\n",
    "# 创建一个全部都是0的一维数组\n",
    "zero_array = np.zeros(5)\n",
    "# 创建一个全部都是1的一维数组\n",
    "one_array = np.ones((2,2))\n",
    "# 获取随机数组\n",
    "random_array = np.random.random((2,2))\n",
    "# 相当于range\n",
    "arange_array = np.arange(5)\n",
    "arange_array"
   ]
  },
  {
   "cell_type": "code",
   "execution_count": 21,
   "metadata": {
    "collapsed": true
   },
   "outputs": [
    {
     "data": {
      "text/plain": [
       "array([[19., 22.],\n",
       "       [43., 50.]])"
      ]
     },
     "execution_count": 21,
     "metadata": {},
     "output_type": "execute_result"
    }
   ],
   "source": [
    "# numpy 的数组操作\n",
    "a = np.array([[1.0,2.0],[3.0,4.0]])\n",
    "b = np.array([[5.0,6.0],[7.0,8.0]])\n",
    "sum = a + b\n",
    "difference = a - b\n",
    "product = a * b\n",
    "quotient = a / b\n",
    "# 矩阵乘法\n",
    "matrix_product = a.dot(b) # 19 = 1 * 5 + 2 * 7   22 = 1 * 6 + 2 * 8\n",
    "matrix_product"
   ]
  },
  {
   "cell_type": "code",
   "execution_count": 38,
   "metadata": {},
   "outputs": [
    {
     "name": "stdout",
     "output_type": "stream",
     "text": [
      "[12 13 14]\n",
      "[16 21 26]\n",
      "[[11 13 15]\n",
      " [21 23 25]\n",
      " [31 33 35]]\n",
      "[12 17 22 27 32]\n",
      "4\n"
     ]
    }
   ],
   "source": [
    "# 多维数组\n",
    "a = np.array([[11, 12, 13, 14, 15],\n",
    "              [16, 17, 18, 19, 20],\n",
    "              [21, 22, 23, 24, 25],\n",
    "              [26, 27, 28 ,29, 30],\n",
    "              [31, 32, 33, 34, 35]])\n",
    "\n",
    "\n",
    "print(a[0,1:4])\n",
    "print(a[1:4,0])\n",
    "print(a[::2,::2])\n",
    "print(a[:, 1])"
   ]
  },
  {
   "cell_type": "code",
   "execution_count": 40,
   "metadata": {},
   "outputs": [
    {
     "name": "stdout",
     "output_type": "stream",
     "text": [
      "<class 'numpy.ndarray'>\n",
      "int32\n",
      "25\n",
      "(5, 5)\n",
      "4\n",
      "2\n",
      "100\n"
     ]
    }
   ],
   "source": [
    "# 数组属性\n",
    "print(type(a))  # <class 'numpy.ndarray'>\n",
    "print(a.dtype) # 类型int32\n",
    "print(a.size) # 数组所有元素 25\n",
    "print(a.shape) # 数组的结构 5 * 5\n",
    "print(a.itemsize)  # 属性是每个项占用的字节数 这个是int 32 所以 32 / 8\n",
    "print(a.ndim)  # 数组的维度\n",
    "print(a.nbytes) # 属性是数组中的所有数据消耗掉的字节数\n"
   ]
  },
  {
   "cell_type": "code",
   "execution_count": null,
   "metadata": {},
   "outputs": [],
   "source": []
  }
 ],
 "metadata": {
  "kernelspec": {
   "display_name": "Python 3",
   "language": "python",
   "name": "python3"
  },
  "language_info": {
   "codemirror_mode": {
    "name": "ipython",
    "version": 3
   },
   "file_extension": ".py",
   "mimetype": "text/x-python",
   "name": "python",
   "nbconvert_exporter": "python",
   "pygments_lexer": "ipython3",
   "version": "3.7.3"
  }
 },
 "nbformat": 4,
 "nbformat_minor": 2
}
